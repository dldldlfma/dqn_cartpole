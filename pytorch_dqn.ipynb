{
 "cells": [
  {
   "cell_type": "code",
   "execution_count": 2,
   "metadata": {
    "collapsed": true
   },
   "outputs": [],
   "source": [
    "import gym\n",
    "import math\n",
    "import random\n",
    "import numpy as np\n",
    "import matplotlib\n",
    "import matplotlib.pyplot as plt\n",
    "from collections import namedtuple\n",
    "from collections import deque\n",
    "\n",
    "from itertools import count\n",
    "from PIL import Image\n",
    "\n",
    "import torch\n",
    "import torch.nn as nn\n",
    "import torch.optim as optim\n",
    "import torch.nn.functional as F\n",
    "import torchvision.transforms as T\n",
    "\n",
    "device = torch.device(\"cuda\" if torch.cuda.is_available() else \"cpu\")\n",
    "\n",
    "class memory():\n",
    "\n",
    "    def __init__(self, size):\n",
    "        self.mem = deque(maxlen=size)\n",
    "\n",
    "    def append_sample(self, state, action, reward, next_state, done):\n",
    "        self.mem.append((state, action, reward, next_state, done))\n",
    "\n",
    "    def get_train_data(self,batch_size):\n",
    "        return random.sample(self.mem, batch_size)\n",
    "\n",
    "    def __len__(self):\n",
    "        return len(self.mem)\n",
    "\n"
   ]
  },
  {
   "cell_type": "code",
   "execution_count": 3,
   "metadata": {},
   "outputs": [],
   "source": [
    "class NN(nn.Module):\n",
    "\n",
    "    def __init__(self, state_size, action_size):\n",
    "        super(NN,self).__init__()\n",
    "        self.fc1 = nn.Linear(state_size, 32)\n",
    "        self.fc2 = nn.Linear(32,32)\n",
    "        self.out = nn.Linear(32, action_size)\n",
    "        nn.init.xavier_normal_(self.fc1.weight)\n",
    "        nn.init.xavier_normal_(self.fc2.weight)\n",
    "        nn.init.xavier_normal_(self.out.weight)\n",
    "\n",
    "\n",
    "\n",
    "    def forward(self,x):\n",
    "        x = self.fc1(x)\n",
    "        x = F.relu(x)\n",
    "        x = self.fc2(x)\n",
    "        x = F.relu(x)\n",
    "        x = self.out(x)\n",
    "        return x\n",
    "        "
   ]
  },
  {
   "cell_type": "code",
   "execution_count": 4,
   "metadata": {},
   "outputs": [
    {
     "name": "stdout",
     "output_type": "stream",
     "text": [
      "WARN: gym.spaces.Box autodetected dtype as <class 'numpy.float32'>. Please provide explicit dtype."
     ]
    },
    {
     "name": "stdout",
     "output_type": "stream",
     "text": [
      "\n"
     ]
    }
   ],
   "source": [
    "action = 0\n",
    "env = gym.make('CartPole-v1')\n",
    "state_size = env.observation_space.shape[0]\n",
    "action_size = env.action_space.n\n"
   ]
  },
  {
   "cell_type": "code",
   "execution_count": 5,
   "metadata": {},
   "outputs": [],
   "source": [
    "class Agent():\n",
    "    def __init__(self, mem_size, state_size, action_size):\n",
    "        self.state_size = state_size\n",
    "        self.action_size = action_size\n",
    "        \n",
    "        self.epsilon = 1\n",
    "        self.epsilon_min = 0.01\n",
    "        self.epsilon_decay = 0.9\n",
    "        self.batch_size = 64\n",
    "        self.GAMMA =0.9\n",
    "        \n",
    "        self.worker_NN = NN(state_size, action_size).to(device)\n",
    "        self.target_NN = NN(state_size, action_size).to(device)\n",
    "        self.target_NN.load_state_dict(self.worker_NN.state_dict())\n",
    "        \n",
    "        self.optimizer = optim.Adam(self.worker_NN.parameters(),lr=0.001)\n",
    "        self.loss_func = nn.MSELoss()\n",
    "        self.mem = memory(mem_size)\n",
    "    \n",
    "    def get_action(self,state):\n",
    "        if np.random.rand() <= self.epsilon:\n",
    "            self.epsilon = self.epsilon * self.epsilon_decay\n",
    "            return env.action_space.sample()\n",
    "        else:\n",
    "            state = torch.Tensor(state).to(device)\n",
    "            a=self.worker_NN(state)\n",
    "            out = torch.argmax(a)\n",
    "            return  out.cpu().numpy()\n",
    "    \n",
    "    def train_model(self):\n",
    "        if self.epsilon > self.epsilon_min:\n",
    "            self.epsilon *= self.epsilon_decay\n",
    "        \n",
    "        mini_batch = self.mem.get_train_data(self.batch_size)\n",
    "        \n",
    "        states = np.zeros((self.batch_size, self.state_size))\n",
    "        next_states = np.zeros((self.batch_size, self.state_size))\n",
    "        actions, rewards, dones = [],[],[]\n",
    "        \n",
    "        for i in range(self.batch_size):\n",
    "            states[i] = mini_batch[i][0]\n",
    "            actions.append(mini_batch[i][1])\n",
    "            rewards.append(mini_batch[i][2])\n",
    "            next_states[i] = mini_batch[i][3]\n",
    "            dones.append(mini_batch[i][4])\n",
    "        \n",
    "        states = torch.Tensor(states).to(device)\n",
    "        next_states = torch.Tensor(next_states).to(device)\n",
    "        rewards = torch.Tensor(rewards).to(device)\n",
    "        \n",
    "        q_eval = self.worker_NN(states)\n",
    "        q_eval = q_eval.max(1)[0]\n",
    "        q_next = self.target_NN(next_states)\n",
    "        \n",
    "        q_target = rewards + (self.GAMMA * q_next.max(1)[0])\n",
    "        \n",
    "            \n",
    "        loss = F.mse_loss(q_eval, q_target)\n",
    "        self.optimizer.zero_grad()\n",
    "        loss.backward()\n",
    "        self.optimizer.step()\n",
    "        \n",
    "        \n",
    "    def weight_copy(self):\n",
    "        self.target_NN.load_state_dict(self.worker_NN.state_dict())\n",
    "            \n",
    "    "
   ]
  },
  {
   "cell_type": "code",
   "execution_count": 6,
   "metadata": {},
   "outputs": [],
   "source": [
    "agent = Agent(mem_size=2000, state_size=state_size, action_size =action_size)"
   ]
  },
  {
   "cell_type": "code",
   "execution_count": null,
   "metadata": {
    "collapsed": true
   },
   "outputs": [],
   "source": [
    "for i_episode in range(1500):\n",
    "    state = env.reset()\n",
    "    score = 0\n",
    "    for t in range(500):\n",
    "        env.render()\n",
    "        #action = env.action_space.sample()\n",
    "        action = agent.get_action(state)\n",
    "        next_state, reward, done, info = env.step(action)\n",
    "        next_state = np.reshape(next_state, [1, state_size])\n",
    "\n",
    "        reward = reward if not done or score > 499 else -100 #안끝났거나 score가 499보다 큰경우가 아니고서야 reward는 -100\n",
    "\n",
    "        agent.mem.append_sample(state, action, reward, next_state, done)\n",
    "        state=next_state\n",
    "        score +=reward\n",
    "        if len(agent.mem) > 1000:\n",
    "            agent.train_model()\n",
    "\n",
    "        if done:\n",
    "            if t+1 > 100:\n",
    "                print(\"{} : Episode finished after {} timesteps and \".format(i_episode, t+1))\n",
    "            if (i_episode % 10) == 0:\n",
    "                agent.weight_copy()\n",
    "            break\n",
    "env.close()\n"
   ]
  },
  {
   "cell_type": "code",
   "execution_count": 17,
   "metadata": {
    "collapsed": true
   },
   "outputs": [
    {
     "name": "stdout",
     "output_type": "stream",
     "text": [
      "[(array([[-0.11311529, -1.1258027 ,  0.15989465,  1.83356267]]), array(0, dtype=int64), 1.0, array([[-0.13563135, -1.32229222,  0.1965659 ,  2.17134632]]), False)]"
     ]
    },
    {
     "name": "stdout",
     "output_type": "stream",
     "text": [
      "\n"
     ]
    },
    {
     "name": "stdout",
     "output_type": "stream",
     "text": [
      "[(array([[-0.0370611 , -0.19936407,  0.0007396 ,  0.25806303]]), 1, 1.0, array([[-0.04104838, -0.00425268,  0.00590087, -0.03438653]]), False)]"
     ]
    },
    {
     "name": "stdout",
     "output_type": "stream",
     "text": [
      "\n"
     ]
    },
    {
     "name": "stdout",
     "output_type": "stream",
     "text": [
      "[(array([ 0.01098016,  0.04884696, -0.02438574,  0.01569977]), array(0, dtype=int64), 1.0, array([[ 0.0119571 , -0.14591693, -0.02407175,  0.30059006]]), False)]"
     ]
    },
    {
     "name": "stdout",
     "output_type": "stream",
     "text": [
      "\n"
     ]
    },
    {
     "name": "stdout",
     "output_type": "stream",
     "text": [
      "[(array([[-0.06404237, -1.31715866,  0.09880463,  2.07431604]]), array(0, dtype=int64), 1.0, array([[-0.09038555, -1.51313479,  0.14029095,  2.39584783]]), False)]"
     ]
    },
    {
     "name": "stdout",
     "output_type": "stream",
     "text": [
      "\n"
     ]
    },
    {
     "name": "stdout",
     "output_type": "stream",
     "text": [
      "[(array([[-0.08036308, -0.9693422 ,  0.09075955,  1.52128121]]), array(1, dtype=int64), 1.0, array([[-0.09974993, -0.77542666,  0.12118518,  1.25825177]]), False)]"
     ]
    },
    {
     "name": "stdout",
     "output_type": "stream",
     "text": [
      "\n"
     ]
    },
    {
     "name": "stdout",
     "output_type": "stream",
     "text": [
      "[(array([[-0.05334093, -0.57768114,  0.04857063,  0.90095015]]), 0, 1.0, array([[-0.06489456, -0.77342636,  0.06658963,  1.20849586]]), False)]"
     ]
    },
    {
     "name": "stdout",
     "output_type": "stream",
     "text": [
      "\n"
     ]
    },
    {
     "name": "stdout",
     "output_type": "stream",
     "text": [
      "[(array([[-0.12833072, -0.79193004,  0.13571234,  1.30485414]]), 0, 1.0, array([[-0.14416932, -0.98848649,  0.16180943,  1.63675493]]), False)]"
     ]
    },
    {
     "name": "stdout",
     "output_type": "stream",
     "text": [
      "\n"
     ]
    },
    {
     "name": "stdout",
     "output_type": "stream",
     "text": [
      "[(array([[-0.04211623, -0.60611181, -0.01723127,  0.84315718]]), array(0, dtype=int64), 1.0, array([[-5.42384701e-02, -8.00994401e-01, -3.68127785e-04,\n         1.13037193e+00]]), False)]"
     ]
    },
    {
     "name": "stdout",
     "output_type": "stream",
     "text": [
      "\n"
     ]
    },
    {
     "name": "stdout",
     "output_type": "stream",
     "text": [
      "[(array([[-0.08036308, -0.9693422 ,  0.09075955,  1.52128121]]), array(1, dtype=int64), 1.0, array([[-0.09974993, -0.77542666,  0.12118518,  1.25825177]]), False)]"
     ]
    },
    {
     "name": "stdout",
     "output_type": "stream",
     "text": [
      "\n"
     ]
    },
    {
     "name": "stdout",
     "output_type": "stream",
     "text": [
      "[(array([[-0.11311529, -1.1258027 ,  0.15989465,  1.83356267]]), array(0, dtype=int64), 1.0, array([[-0.13563135, -1.32229222,  0.1965659 ,  2.17134632]]), False)]"
     ]
    },
    {
     "name": "stdout",
     "output_type": "stream",
     "text": [
      "\n"
     ]
    },
    {
     "name": "stdout",
     "output_type": "stream",
     "text": [
      "[(array([[-0.13469592, -1.16840001,  0.17807624,  1.92081419]]), array(0, dtype=int64), -100, array([[-0.15806392, -1.36493335,  0.21649252,  2.26303047]]), True)]"
     ]
    },
    {
     "name": "stdout",
     "output_type": "stream",
     "text": [
      "\n"
     ]
    },
    {
     "name": "stdout",
     "output_type": "stream",
     "text": [
      "[(array([[ 4.67285289e-03, -3.82343143e-01, -4.44854855e-04,\n         5.95267921e-01]]), array(0, dtype=int64), 1.0, array([[-0.00297401, -0.57745887,  0.0114605 ,  0.88781069]]), False)]"
     ]
    },
    {
     "name": "stdout",
     "output_type": "stream",
     "text": [
      "\n"
     ]
    },
    {
     "name": "stdout",
     "output_type": "stream",
     "text": [
      "[(array([[-0.01452319, -0.77273447,  0.02921672,  1.18407418]]), array(1, dtype=int64), 1.0, array([[-0.02997788, -0.5780035 ,  0.0528982 ,  0.90069087]]), False)]"
     ]
    },
    {
     "name": "stdout",
     "output_type": "stream",
     "text": [
      "\n"
     ]
    },
    {
     "name": "stdout",
     "output_type": "stream",
     "text": [
      "[(array([[-0.10844027, -0.39906412,  0.10305538,  0.65478757]]), array(0, dtype=int64), 1.0, array([[-0.11642155, -0.59545849,  0.11615113,  0.97806084]]), False)]"
     ]
    },
    {
     "name": "stdout",
     "output_type": "stream",
     "text": [
      "\n"
     ]
    },
    {
     "name": "stdout",
     "output_type": "stream",
     "text": [
      "[(array([[-0.01279376, -0.938636  ,  0.0979811 ,  1.49870919]]), array(0, dtype=int64), 1.0, array([[-0.03156648, -1.13480244,  0.12795529,  1.82030791]]), False)]"
     ]
    },
    {
     "name": "stdout",
     "output_type": "stream",
     "text": [
      "\n"
     ]
    },
    {
     "name": "stdout",
     "output_type": "stream",
     "text": [
      "[(array([[-0.09974993, -0.77542666,  0.12118518,  1.25825177]]), array(0, dtype=int64), 1.0, array([[-0.11525846, -0.97187283,  0.14635021,  1.58630123]]), False)]"
     ]
    },
    {
     "name": "stdout",
     "output_type": "stream",
     "text": [
      "\n"
     ]
    },
    {
     "name": "stdout",
     "output_type": "stream",
     "text": [
      "[(array([[-0.06410741, -1.01313957,  0.06784579,  1.43150902]]), array(0, dtype=int64), 1.0, array([[-0.0843702 , -1.20903013,  0.09647597,  1.74460022]]), False)]"
     ]
    },
    {
     "name": "stdout",
     "output_type": "stream",
     "text": [
      "\n"
     ]
    },
    {
     "name": "stdout",
     "output_type": "stream",
     "text": [
      "[(array([[-0.02916851, -0.39462968, -0.01034011,  0.55398572]]), 1, 1.0, array([[-0.0370611 , -0.19936407,  0.0007396 ,  0.25806303]]), False)]"
     ]
    },
    {
     "name": "stdout",
     "output_type": "stream",
     "text": [
      "\n"
     ]
    },
    {
     "name": "stdout",
     "output_type": "stream",
     "text": [
      "[(array([[-0.10844027, -0.39906412,  0.10305538,  0.65478757]]), array(0, dtype=int64), 1.0, array([[-0.11642155, -0.59545849,  0.11615113,  0.97806084]]), False)]"
     ]
    },
    {
     "name": "stdout",
     "output_type": "stream",
     "text": [
      "\n"
     ]
    },
    {
     "name": "stdout",
     "output_type": "stream",
     "text": [
      "[(array([[-0.0370611 , -0.19936407,  0.0007396 ,  0.25806303]]), 1, 1.0, array([[-0.04104838, -0.00425268,  0.00590087, -0.03438653]]), False)]"
     ]
    },
    {
     "name": "stdout",
     "output_type": "stream",
     "text": [
      "\n"
     ]
    },
    {
     "name": "stdout",
     "output_type": "stream",
     "text": [
      "[(array([[-0.05334093, -0.57768114,  0.04857063,  0.90095015]]), 0, 1.0, array([[-0.06489456, -0.77342636,  0.06658963,  1.20849586]]), False)]"
     ]
    },
    {
     "name": "stdout",
     "output_type": "stream",
     "text": [
      "\n"
     ]
    },
    {
     "name": "stdout",
     "output_type": "stream",
     "text": [
      "[(array([[-0.01704529, -0.15059256, -0.03252903,  0.2578068 ]]), array(0, dtype=int64), 1.0, array([[-0.02005714, -0.34523537, -0.02737289,  0.54005471]]), False)]"
     ]
    },
    {
     "name": "stdout",
     "output_type": "stream",
     "text": [
      "\n"
     ]
    },
    {
     "name": "stdout",
     "output_type": "stream",
     "text": [
      "[(array([-0.00064894, -0.00067757, -0.04410509, -0.02751637]), array(0, dtype=int64), 1.0, array([[-0.00066249, -0.19514018, -0.04465542,  0.25093119]]), False)]"
     ]
    },
    {
     "name": "stdout",
     "output_type": "stream",
     "text": [
      "\n"
     ]
    },
    {
     "name": "stdout",
     "output_type": "stream",
     "text": [
      "[(array([[-0.12833072, -0.79193004,  0.13571234,  1.30485414]]), 0, 1.0, array([[-0.14416932, -0.98848649,  0.16180943,  1.63675493]]), False)]"
     ]
    },
    {
     "name": "stdout",
     "output_type": "stream",
     "text": [
      "\n"
     ]
    },
    {
     "name": "stdout",
     "output_type": "stream",
     "text": [
      "[(array([[-0.14175393, -1.58305711,  0.12575804,  2.34828353]]), array(0, dtype=int64), 1.0, array([[-0.17341507, -1.77906324,  0.17272371,  2.6768464 ]]), False)]"
     ]
    },
    {
     "name": "stdout",
     "output_type": "stream",
     "text": [
      "\n"
     ]
    },
    {
     "name": "stdout",
     "output_type": "stream",
     "text": [
      "[(array([[-0.14252298, -0.93337063,  0.15943937,  1.49453295]]), array(0, dtype=int64), 1.0, array([[-0.16119039, -1.13003194,  0.18933003,  1.83246018]]), False)]"
     ]
    },
    {
     "name": "stdout",
     "output_type": "stream",
     "text": [
      "\n"
     ]
    },
    {
     "name": "stdout",
     "output_type": "stream",
     "text": [
      "[(array([[-0.06410741, -1.01313957,  0.06784579,  1.43150902]]), array(0, dtype=int64), 1.0, array([[-0.0843702 , -1.20903013,  0.09647597,  1.74460022]]), False)]"
     ]
    },
    {
     "name": "stdout",
     "output_type": "stream",
     "text": [
      "\n"
     ]
    },
    {
     "name": "stdout",
     "output_type": "stream",
     "text": [
      "[(array([[-0.04104838, -0.00425268,  0.00590087, -0.03438653]]), array(0, dtype=int64), 1.0, array([[-0.04113344, -0.19945876,  0.00521313,  0.26015233]]), False)]"
     ]
    },
    {
     "name": "stdout",
     "output_type": "stream",
     "text": [
      "\n"
     ]
    },
    {
     "name": "stdout",
     "output_type": "stream",
     "text": [
      "[(array([[-0.04920447, -0.3949418 ,  0.01509993,  0.5608266 ]]), array(0, dtype=int64), 1.0, array([[-0.05710331, -0.59027238,  0.02631646,  0.85822828]]), False)]"
     ]
    },
    {
     "name": "stdout",
     "output_type": "stream",
     "text": [
      "\n"
     ]
    },
    {
     "name": "stdout",
     "output_type": "stream",
     "text": [
      "[(array([[-0.09018059, -1.19150132,  0.0506981 ,  1.72248941]]), array(0, dtype=int64), 1.0, array([[-0.11401062, -1.38716566,  0.08514789,  2.03050766]]), False)]"
     ]
    },
    {
     "name": "stdout",
     "output_type": "stream",
     "text": [
      "\n"
     ]
    },
    {
     "name": "stdout",
     "output_type": "stream",
     "text": [
      "[(array([[-5.42384701e-02, -8.00994401e-01, -3.68127785e-04,\n         1.13037193e+00]]), array(0, dtype=int64), 1.0, array([[-0.07025836, -0.99611153,  0.02223931,  1.42293937]]), False)]"
     ]
    },
    {
     "name": "stdout",
     "output_type": "stream",
     "text": [
      "\n"
     ]
    },
    {
     "name": "stdout",
     "output_type": "stream",
     "text": [
      "[(array([[-0.12697034, -1.16895123,  0.20592531,  1.93480025]]), array(1, dtype=int64), -100, array([[-0.15034937, -0.97654162,  0.24462132,  1.71239869]]), True)]"
     ]
    },
    {
     "name": "stdout",
     "output_type": "stream",
     "text": [
      "\n"
     ]
    },
    {
     "name": "stdout",
     "output_type": "stream",
     "text": [
      "[(array([[-0.02309778, -0.92585185,  0.03436635,  1.45934805]]), array(0, dtype=int64), 1.0, array([[-0.04161481, -1.12137799,  0.06355331,  1.76256581]]), False)]"
     ]
    },
    {
     "name": "stdout",
     "output_type": "stream",
     "text": [
      "\n"
     ]
    },
    {
     "name": "stdout",
     "output_type": "stream",
     "text": [
      "[(array([[-0.0045653 , -0.38959694, -0.03963679,  0.52920123]]), array(0, dtype=int64), 1.0, array([[-0.01235724, -0.58413952, -0.02905277,  0.80913572]]), False)]"
     ]
    },
    {
     "name": "stdout",
     "output_type": "stream",
     "text": [
      "\n"
     ]
    },
    {
     "name": "stdout",
     "output_type": "stream",
     "text": [
      "[(array([[-0.12833072, -0.79193004,  0.13571234,  1.30485414]]), 0, 1.0, array([[-0.14416932, -0.98848649,  0.16180943,  1.63675493]]), False)]"
     ]
    },
    {
     "name": "stdout",
     "output_type": "stream",
     "text": [
      "\n"
     ]
    },
    {
     "name": "stdout",
     "output_type": "stream",
     "text": [
      "[(array([[-0.09018059, -1.19150132,  0.0506981 ,  1.72248941]]), array(0, dtype=int64), 1.0, array([[-0.11401062, -1.38716566,  0.08514789,  2.03050766]]), False)]"
     ]
    },
    {
     "name": "stdout",
     "output_type": "stream",
     "text": [
      "\n"
     ]
    },
    {
     "name": "stdout",
     "output_type": "stream",
     "text": [
      "[(array([[ 4.67285289e-03, -3.82343143e-01, -4.44854855e-04,\n         5.95267921e-01]]), array(0, dtype=int64), 1.0, array([[-0.00297401, -0.57745887,  0.0114605 ,  0.88781069]]), False)]"
     ]
    },
    {
     "name": "stdout",
     "output_type": "stream",
     "text": [
      "\n"
     ]
    },
    {
     "name": "stdout",
     "output_type": "stream",
     "text": [
      "[(array([[-3.77610907e-02, -7.34853454e-01, -9.20245434e-05,\n         1.11141376e+00]]), array(0, dtype=int64), 1.0, array([[-0.05245816, -0.9299742 ,  0.02213625,  1.40406782]]), False)]"
     ]
    }
   ],
   "source": [
    "for i in range(50):\n",
    "    print(agent.mem.get_train_data(1))"
   ]
  },
  {
   "cell_type": "code",
   "execution_count": 11,
   "metadata": {},
   "outputs": [],
   "source": []
  },
  {
   "cell_type": "code",
   "execution_count": 11,
   "metadata": {},
   "outputs": [],
   "source": []
  },
  {
   "cell_type": "code",
   "execution_count": 11,
   "metadata": {},
   "outputs": [],
   "source": []
  },
  {
   "cell_type": "code",
   "execution_count": 11,
   "metadata": {},
   "outputs": [],
   "source": []
  },
  {
   "cell_type": "code",
   "execution_count": 11,
   "metadata": {},
   "outputs": [],
   "source": []
  },
  {
   "cell_type": "code",
   "execution_count": 11,
   "metadata": {},
   "outputs": [],
   "source": []
  },
  {
   "cell_type": "code",
   "execution_count": 11,
   "metadata": {},
   "outputs": [],
   "source": []
  },
  {
   "cell_type": "code",
   "execution_count": 11,
   "metadata": {},
   "outputs": [],
   "source": []
  },
  {
   "cell_type": "code",
   "execution_count": 11,
   "metadata": {},
   "outputs": [],
   "source": []
  },
  {
   "cell_type": "code",
   "execution_count": 11,
   "metadata": {},
   "outputs": [],
   "source": []
  },
  {
   "cell_type": "code",
   "execution_count": 11,
   "metadata": {},
   "outputs": [],
   "source": []
  },
  {
   "cell_type": "code",
   "execution_count": 11,
   "metadata": {},
   "outputs": [],
   "source": []
  },
  {
   "cell_type": "code",
   "execution_count": 11,
   "metadata": {},
   "outputs": [],
   "source": []
  },
  {
   "cell_type": "code",
   "execution_count": 11,
   "metadata": {},
   "outputs": [],
   "source": []
  },
  {
   "cell_type": "code",
   "execution_count": 11,
   "metadata": {},
   "outputs": [],
   "source": []
  },
  {
   "cell_type": "code",
   "execution_count": 11,
   "metadata": {},
   "outputs": [],
   "source": []
  },
  {
   "cell_type": "code",
   "execution_count": 11,
   "metadata": {},
   "outputs": [],
   "source": []
  },
  {
   "cell_type": "code",
   "execution_count": null,
   "metadata": {},
   "outputs": [],
   "source": []
  }
 ],
 "metadata": {
  "kernelspec": {
   "display_name": "Python 2",
   "language": "python",
   "name": "python2"
  },
  "language_info": {
   "codemirror_mode": {
    "name": "ipython",
    "version": 2
   },
   "file_extension": ".py",
   "mimetype": "text/x-python",
   "name": "python",
   "nbconvert_exporter": "python",
   "pygments_lexer": "ipython2",
   "version": "2.7.6"
  }
 },
 "nbformat": 4,
 "nbformat_minor": 0
}
